{
 "cells": [
  {
   "cell_type": "markdown",
   "metadata": {},
   "source": [
    "1.What are the three stages to build the hypotheses or model in machine learning?\n",
    "A.The three stages of building ML model are\n",
    "a)      Model building\n",
    "b)      Model testing\n",
    "c)      Applying the model\n",
    "\n",
    "2.What is the standard approach to supervised learning?\n",
    "A. The standard approach to supervised learning is to split the data into training set and test set.\n",
    "\n",
    "3.What is ‘Training set’ and ‘Test set’?\n",
    "A.Training Set is the data used to train the model with set of examples and Test Set is the data used to test the Accuracy of the model.\n",
    "\n",
    "4.What is the general principle of an ensemble method and what is bagging and boosting in ensemble method?\n",
    "A. The general principle of ensemble method is to improve the quality by combining predictions from multiple separate models. The different methods for ensembling are bagging and boosting. \n",
    "Bagging uses complex base models and tries to \"smooth out\" their predictions, while boosting uses simple base models and tries to \"boost\" their aggregate complexity.\n",
    "\n",
    "5.How can you avoid overfitting ?\n",
    "A. Overfitting generally occurs with low amount of data. So at that point we can avoid overfitting by use of \"Cross-validation, Regularization, Ensembling\" methodologies. And moreover this could be avoided by using large amount of data.\n"
   ]
  }
 ],
 "metadata": {
  "kernelspec": {
   "display_name": "Python 3",
   "language": "python",
   "name": "python3"
  },
  "language_info": {
   "codemirror_mode": {
    "name": "ipython",
    "version": 3
   },
   "file_extension": ".py",
   "mimetype": "text/x-python",
   "name": "python",
   "nbconvert_exporter": "python",
   "pygments_lexer": "ipython3",
   "version": "3.6.4"
  }
 },
 "nbformat": 4,
 "nbformat_minor": 2
}
